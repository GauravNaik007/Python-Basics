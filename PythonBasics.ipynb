{
  "nbformat": 4,
  "nbformat_minor": 0,
  "metadata": {
    "colab": {
      "provenance": []
    },
    "kernelspec": {
      "name": "python3",
      "display_name": "Python 3"
    },
    "language_info": {
      "name": "python"
    }
  },
  "cells": [
    {
      "cell_type": "markdown",
      "source": [
        "#Python Basics\n"
      ],
      "metadata": {
        "id": "L_-a5ssKFjFT"
      }
    },
    {
      "cell_type": "markdown",
      "source": [
        "1. What is Python, and why is it popular?\n",
        "  -  Python is a versatile, high-level programming language known for  \n",
        "     its readability and simplicity, making  popular for a wide range of applications.\n",
        "  -  Its popularity stems from its ease of learning, extensive\n",
        "     libraries, and adaptability to various fields like web development, data science, and machine learning.\n",
        "\n",
        "\n",
        "\n",
        "---\n",
        "\n",
        "\n",
        "\n",
        "2. What is an interpreter in Python ?\n",
        "  -  In Python, an interpreter is a program that reads and execute\n",
        "     Python code line by line.\n",
        "  -  It translates the high-level code into machine-readable bytecode,\n",
        "     and then executes the bytecode.\n",
        "  -  Unlike compilers that translate the entire code into machine code\n",
        "     before execution, an interpreter processes and executes code directly as it's read.\n",
        "     \n",
        "\n",
        "---\n",
        "\n",
        "\n",
        "\n",
        "3. What are pre-defined keywords in Python ?\n",
        "  -  Keywords are reserved words in Python that have predefined  \n",
        "     meaning and cannot be used as identifiers (variable names, function names, etc.).\n",
        "  -  They are essential for defining the structure and logic of Python\n",
        "     code. Here's a list of commonly used keywords:\n",
        "     True, False, None,def,import,try,etc.\n",
        "\n",
        "\n",
        "---\n",
        "\n",
        "4. Can keywords can be used as variables name?\n",
        "  - No,As keywords in python are reserved words that have predefined\n",
        "  meaning and cannot be used as identifiers(variable names,function names,etc).\n",
        "  -Using a keyword as a variable name would lead to syntax error and because the interpreter would misinterpret it.\n",
        "\n",
        "\n",
        "\n",
        "---\n",
        "5. What is mutability in python?\n",
        "  - Mutablity in python refers to an ability of an object to be modified after it is created.\n",
        "  - If an object is mutable, its state or value can be changed without creating a new object.\n",
        "  - Mutable objects in python includes List,Dictionaries and Sets.\n",
        "\n",
        "\n",
        "---\n",
        "6. Why are lists mutable but tuples immutable?\n",
        " - In Python, lists are mutable, which means their contents can be changed after they are created. We can add, remove, or modify elements in a list. This is because lists are designed for situations where the data might need to be updated frequently.\n",
        "\n",
        "\n",
        "```\n",
        "# Example\n",
        "my_list = [1, 2, 3]\n",
        "my_list[0] = 10      # Changes the first element\n",
        "my_list.append(4)    # Adds a new element\n",
        "```\n",
        "- On the other hand, tuples are immutable, meaning once a tuple is created, its contents cannot be changed. We cannot add, remove, or modify elements in a tuple. This immutability makes tuples useful for storing fixed data that should not be altered, such as constants or values used as dictionary keys.\n",
        "\n",
        "\n",
        "```\n",
        "# Example\n",
        "my_tuple = (1, 2, 3)\n",
        "my_tuple[0] = 10     # This will raise an error\n",
        "\n",
        "```\n",
        "---\n",
        "7. What is the difference between “==” and “is” operators in Python?\n",
        " - In Python, the == operator is used to compare the values of two variables. It checks whether the values stored in the variables are the same. If the values are equal, it returns True, otherwise it returns False.\n",
        "\n",
        " - On the other hand, the is operator is used to compare the identities of two objects. It checks whether both variables point to the same object in memory. If they refer to the same object, it returns True; otherwise, it returns False.\n",
        "\n",
        "\n",
        "```\n",
        "#  Example\n",
        "\n",
        "a = [1, 2, 3]\n",
        "b = [1, 2, 3]\n",
        "c = a\n",
        "\n",
        "print(a == b)  # True, because values are equal\n",
        "print(a is b)  # False, because they are different objects\n",
        "print(a is c)  # True, because both refer to the same object\n",
        "```\n",
        "\n",
        "\n",
        "---\n",
        "\n",
        "\n",
        "8. What are logical operators in Python ?\n",
        " - Logical Operators are also known as Boolean operators.The result of these operators is in form of 'true' or 'false.\n",
        " - Initially,the variable must be assigned with a value,either 'True' or 'False'.The logical operation is performed on variables to generate the output in form of 'True' or 'False'.\n",
        " - There are 3 logical operators in Python:\n",
        "\n",
        "     *  and - returns True if both operands are true.\n",
        "     *  or - returns True if either one of  operand is true.\n",
        "     *  not - returns True if operands is false.\n",
        "  \n",
        "\n",
        "```\n",
        "# Example\n",
        "a = True\n",
        "b = False\n",
        "print (a and b)\n",
        "print (a or b)\n",
        "print (not a)\n",
        "\n",
        "o/p\n",
        "False\n",
        "True\n",
        "False\n",
        "```\n",
        "\n",
        "\n",
        "---\n",
        "\n",
        "\n",
        "9. What is type casting in Python?\n",
        " - Type casting in Python means converting one data type into another. It is used when we want to change the type of a variable from one form (like integer, float, or string) to another.\n",
        " - Python provides built-in functions to perform type casting, such as:\n",
        "    * int() – to convert to an integer\n",
        "\n",
        "    * float() – to convert to a float\n",
        "\n",
        "    * str() – to convert to a string\n",
        "\n",
        "\n",
        "```\n",
        "# Example\n",
        "x = \"5\"\n",
        "y = int(x)  # Converts string to integer\n",
        "\n",
        "```\n",
        "---\n",
        "10. What is the purpose of conditional statements in Python ?\n",
        " - The purpose of conditional statements in Python is to allow the\n",
        "  program to make decisions based on certain conditions. These statements help in executing different blocks of code depending on whether a condition is true or false.\n",
        " - Conditional statements are useful when we want to perform different\n",
        "   actions in different situations. They control the flow of the program and help it respond dynamically to different inputs or values.\n",
        "\n",
        " - Python provides the following conditional statements:\n",
        "\n",
        "     * if – to check a condition and execute a block if it is true.\n",
        "\n",
        "     * if...else – to choose between two blocks depending on whether a condition is true or false.\n",
        "\n",
        "     * if...elif...else – to check multiple conditions in sequence.\n",
        "  \n",
        "\n",
        "```\n",
        "# Example\n",
        " age=18\n",
        " if age>=18:\n",
        "    print(\"you are eligible to vote.\")\n",
        " else:\n",
        "    print(\"You are not eligible to vote.\")\n",
        "```\n",
        "\n",
        "\n",
        "---\n",
        "11. What is the purpose of conditional statements in Python?\n",
        "    - The purpose of conditional statements in Python is to allow the program to make decisions based on certain conditions. They help the program execute different pieces of code depending on whether a condition is True or False.\n",
        "    - Main Conditional Statements:\n",
        "        * if: Checks a condition, and if it's True, it runs the code inside it.\n",
        "\n",
        "        * elif: (else if) Checks another condition if the if condition is False.\n",
        "\n",
        "        * else: Runs a block of code if all previous conditions are False\n",
        "\n",
        "\n",
        "```\n",
        "# Example\n",
        "x = 10\n",
        "\n",
        "if x > 5:\n",
        "    print(\"x is greater than 5\")\n",
        "elif x == 5:\n",
        "    print(\"x is equal to 5\")\n",
        "else:\n",
        "    print(\"x is less than 5\")\n",
        "\n",
        "```\n",
        "  - The program checks if x > 5 and prints the appropriate message. If not, it checks if x == 5, and if that's False, it prints a default message using else.\n",
        "\n",
        "\n",
        "---\n",
        "\n",
        "12.  How does the elif statement work ?\n",
        "  - In python, the 'elif' statement is used when there is a possibility of multiple conditions to be 'True'.When any of the conditions is 'True', its block of a code is executed.Unlike the 'else' statement,there can be any number of 'elif' statements followed by a single 'if'\n",
        "  - The compiler first evaluates the 'if' condition.If it is false,then it evaluates the conditions of the 'elif' statements in order.\n",
        "  When the 'if' and ' elif' conditions do not meet,then the 'else' block is executed.\n",
        "\n",
        "```\n",
        "# Example\n",
        "marks = 75\n",
        "if marks >= 90:\n",
        "    print(\"Grade A\")\n",
        "elif marks >= 75:\n",
        "    print(\"Grade B\")\n",
        "elif marks >= 60:\n",
        "    print(\"Grade C\")\n",
        "else:\n",
        "    print(\"Grade D\")\n",
        "\n",
        "\n",
        "```\n",
        "\n",
        "---\n",
        "\n",
        "13.  What is the difference between for and while loop?\n",
        "  - In Python, both for and while loops are used to repeat a block of code, but they are used in different situations and work differently.\n",
        "\n",
        "\n",
        "  - 1.   For loop:\n",
        "      \n",
        "       The for loop is used when we know in advance how many times we want to repeat a block of code. It is commonly used to iterate over a sequence like a list, tuple, string, or range.\n",
        "    \n",
        "\n",
        "\n",
        "\n",
        "```\n",
        "# Example\n",
        "for i in range(5):\n",
        "    print(i)\n",
        "O/P\n",
        " 0\n",
        " 1\n",
        " 2\n",
        " 3\n",
        " 4\n",
        "\n",
        "```\n",
        "  - 2.  while loop:\n",
        "   \n",
        "     The while loop is used when we do not know exactly how many times we need to repeat the code. It continues to run as long as a given condition is true.\n",
        "\n",
        "\n",
        "\n",
        "```\n",
        "# Example\n",
        "i = 0\n",
        "while i < 5:\n",
        "    print(i)\n",
        "    i += 1\n",
        "\n",
        "O/P\n",
        " 0\n",
        " 1\n",
        " 2\n",
        " 3\n",
        " 4\n",
        "\n",
        "\n",
        "```\n",
        "Key Differences:\n",
        "\n",
        "For Loop:\n",
        "\n",
        "\n",
        "1.   Used when the number of iterations is known.\n",
        "2.   Iterates over a sequence (like list, tuple, string, range).\n",
        "3.   Mostly used for definite loops.\n",
        "\n",
        "While loop:\n",
        "\n",
        "\n",
        "1.   Used when the number of iterations is not known in advance.\n",
        "2.   Runs based on a condition being true.\n",
        "3.   Mostly used for indefinite loops.\n",
        "\n",
        "\n",
        "---\n",
        "\n",
        "14.   Describe a scenario where a while loop is more suitable than a for loop.\n",
        "  - A while loop is more suitable than a for loop in situations where the number of iterations is not known in advance and the loop needs to continue running until a specific condition is met.\n",
        "\n",
        "  - Example Scenario:\n",
        "\n",
        "       Imagine you're writing a program to simulate a user login system where the user is given a limited number of attempts to enter the correct password. In this case, we don't know how many times the user will need to try entering the correct password, but we want the loop to continue until either the user provides the correct password or they run out of attempts.\n",
        "\n",
        "  \n",
        "\n",
        "```\n",
        "#Code\n",
        "attempts = 0\n",
        "max_attempts = 3\n",
        "correct_password = \"secret123\"\n",
        "user_input = \"\"\n",
        "\n",
        "while attempts < max_attempts:\n",
        "    user_input = input(\"Enter password: \")\n",
        "    if user_input == correct_password:\n",
        "        print(\"Login successful!\")\n",
        "        break\n",
        "    else:\n",
        "        attempts += 1\n",
        "        print(f\"Incorrect password. You have {max_attempts - attempts} attempts left.\")\n",
        "\n",
        "if attempts == max_attempts:\n",
        "    print(\"You have reached the maximum number of attempts.\")\n",
        "\n",
        "```\n",
        " - The loop continues running until the user enters the correct password or exceeds the maximum number of attempts.\n",
        " - The number of iterations is not predetermined because the user may enter the correct password on the first try or after several attempts.\n",
        " - The condition (attempts < max_attempts) is checked at the start of each loop iteration, making it a perfect use case for a while loop.\n",
        " - Therefore,  a while loop is better when you need to repeat an action indefinitely until a specific condition changes, as in the case of user input validation or waiting for a correct condition to be met.\n",
        "\n",
        "---\n",
        "\n",
        "\n",
        "\n",
        "\n",
        "\n",
        "\n",
        "\n",
        "\n",
        "\n",
        "\n",
        "\n",
        "\n",
        "\n",
        "\n",
        "\n",
        "\n",
        "\n",
        "\n",
        "\n",
        "\n",
        "\n",
        "\n",
        "\n",
        "\n",
        "\n",
        "\n",
        "\n",
        "\n",
        "\n",
        "\n",
        "\n",
        "\n",
        "\n",
        "\n",
        "\n",
        "\n",
        "\n",
        "\n",
        "\n",
        "\n",
        "\n",
        "\n",
        "\n",
        "\n",
        "\n",
        "\n",
        "\n",
        "\n",
        "\n",
        "\n"
      ],
      "metadata": {
        "id": "PenosryHFoLp"
      }
    },
    {
      "cell_type": "markdown",
      "source": [
        "# **Practical Questions**\n"
      ],
      "metadata": {
        "id": "v9cWfUKwJgie"
      }
    },
    {
      "cell_type": "code",
      "source": [
        "#1.  Write a Python program to print \"Hello, World!\n",
        "print(\"Hello, World!\")"
      ],
      "metadata": {
        "colab": {
          "base_uri": "https://localhost:8080/"
        },
        "id": "osxV6IQFgrp3",
        "outputId": "cffdef24-a30e-4af0-975e-aa34263b69ad"
      },
      "execution_count": null,
      "outputs": [
        {
          "output_type": "stream",
          "name": "stdout",
          "text": [
            "Hello, World!\n"
          ]
        }
      ]
    },
    {
      "cell_type": "code",
      "execution_count": null,
      "metadata": {
        "colab": {
          "base_uri": "https://localhost:8080/"
        },
        "id": "AqLHplljFai2",
        "outputId": "03b7cce5-76bd-4253-deb0-be9f82bff338"
      },
      "outputs": [
        {
          "output_type": "stream",
          "name": "stdout",
          "text": [
            "The name is: Gaurav\n",
            "The age is: 20\n"
          ]
        }
      ],
      "source": [
        "#2. Write a Python program that displays your name and age\n",
        "name= \"Gaurav\"\n",
        "age=20\n",
        "print(\"The name is:\",name);\n",
        "print(\"The age is:\",age);"
      ]
    },
    {
      "cell_type": "code",
      "source": [
        "#3. Write code to print all the pre-defined keywords in Python using the keyword library\n",
        "import keyword\n",
        "print(\" Python Keywords are:\",keyword.kwlist)"
      ],
      "metadata": {
        "colab": {
          "base_uri": "https://localhost:8080/"
        },
        "id": "e1LYIBZwhTfi",
        "outputId": "f207579b-864d-4948-8354-eaeb90f693ba"
      },
      "execution_count": null,
      "outputs": [
        {
          "output_type": "stream",
          "name": "stdout",
          "text": [
            " Python Keywords are: ['False', 'None', 'True', 'and', 'as', 'assert', 'async', 'await', 'break', 'class', 'continue', 'def', 'del', 'elif', 'else', 'except', 'finally', 'for', 'from', 'global', 'if', 'import', 'in', 'is', 'lambda', 'nonlocal', 'not', 'or', 'pass', 'raise', 'return', 'try', 'while', 'with', 'yield']\n"
          ]
        }
      ]
    },
    {
      "cell_type": "code",
      "source": [
        "#4. Write a program that checks if a given word is a Python keyword.\n",
        "import keyword\n",
        "word = input(\"Enter a word: \")\n",
        "if keyword.iskeyword(word):\n",
        "    print(f\"'{word}' is a Python keyword.\")\n",
        "else:\n",
        "    print(f\"'{word}' is not a Python keyword.\")\n"
      ],
      "metadata": {
        "colab": {
          "base_uri": "https://localhost:8080/"
        },
        "id": "Ef7eAviUhuAo",
        "outputId": "72bc6254-1415-4699-ff05-0ec45ffb2a97"
      },
      "execution_count": null,
      "outputs": [
        {
          "output_type": "stream",
          "name": "stdout",
          "text": [
            "Enter a word: if\n",
            "'if' is a Python keyword.\n"
          ]
        }
      ]
    },
    {
      "cell_type": "code",
      "source": [
        "#5.  Create a list and tuple in Python, and demonstrate how attempting to change an element works differently for each.\n",
        "\n",
        "my_list = [10, 20, 30]  # Creating a list\n",
        "print(\"Original list:\", my_list)\n",
        "\n",
        "\n",
        "my_list[1] = 99        # Modifying an element in the list\n",
        "print(\"Modified list:\", my_list)\n",
        "\n",
        "\n",
        "my_tuple = (10, 20, 30) # Creating a tuple\n",
        "print(\"Original tuple:\", my_tuple)\n",
        "\n",
        "# Trying to modify an element in the tuple\n",
        "try:\n",
        "    my_tuple[1] = 99\n",
        "except TypeError as e:\n",
        "    print(\"Error when trying to modify tuple:\", e)\n",
        "\n",
        "# Explanation\n",
        "#1.The program first creates a list and changes the second element (20) to 99.\n",
        "#This works because lists are mutable.\n",
        "\n",
        "#2.Then it creates a tuple and tries to change its second element.\n",
        " #This raises a TypeError because tuples are immutable—you cannot change their elements once they are created.\n",
        "\n"
      ],
      "metadata": {
        "colab": {
          "base_uri": "https://localhost:8080/"
        },
        "id": "Py1d4YSwskn9",
        "outputId": "0dcb0f2c-7515-4357-d088-a75097d7faca"
      },
      "execution_count": null,
      "outputs": [
        {
          "output_type": "stream",
          "name": "stdout",
          "text": [
            "Original list: [10, 20, 30]\n",
            "Modified list: [10, 99, 30]\n",
            "Original tuple: (10, 20, 30)\n",
            "Error when trying to modify tuple: 'tuple' object does not support item assignment\n"
          ]
        }
      ]
    },
    {
      "cell_type": "code",
      "source": [
        "#6.Write a function to demonstrate the behavior of mutable and immutable arguments.\n",
        "\n",
        "def modify_values(num, my_list):\n",
        "    num += 10             # Tries to change integer (immutable)\n",
        "    my_list.append(4)     # Modifies list (mutable)\n",
        "    print(\"Inside function - num:\", num)\n",
        "    print(\"Inside function - my_list:\", my_list)\n",
        "\n",
        "x = 5                     # Immutable argument\n",
        "\n",
        "my_list = [1, 2, 3]       # Mutable argument\n",
        "\n",
        "modify_values(x, my_list)  # Calling the function\n",
        "\n",
        "print(\"Outside function - x:\", x)\n",
        "print(\"Outside function - my_list:\", my_list)\n",
        "\n",
        "#Explaination\n",
        "#1.x is an integer, which is an immutable type in Python.\n",
        "#Changes made to it inside the function do not affect the original value outside the function.\n",
        "\n",
        "#2.my_list is a list, which is a mutable type.\n",
        "#Changes made to it inside the function affect the original list.\n",
        "\n",
        "\n"
      ],
      "metadata": {
        "colab": {
          "base_uri": "https://localhost:8080/"
        },
        "id": "DEJWTbYltVzj",
        "outputId": "9fd6cbfd-860e-4a3d-ddf6-c951f7eddcd5"
      },
      "execution_count": null,
      "outputs": [
        {
          "output_type": "stream",
          "name": "stdout",
          "text": [
            "Inside function - num: 15\n",
            "Inside function - my_list: [1, 2, 3, 4]\n",
            "Outside function - x: 5\n",
            "Outside function - my_list: [1, 2, 3, 4]\n"
          ]
        }
      ]
    },
    {
      "cell_type": "code",
      "source": [
        "#7.Write a program that performs basic arithmetic operations on two user-input numbers.\n",
        "a = int(input(\"Enter the first number \"))\n",
        "b = int(input(\"Enter the second number \"))\n",
        "print(\"Adition of the number is \",a+b)\n",
        "print(\"Subtractio- of the number is \",a-b)\n",
        "print(\"Multiplication of the number is \",a*b)\n",
        "print(\"Division of the number is \",a/b)\n",
        "print(\"Remainder of the number is \",a%b)\n",
        "print(\"Power of the number is \",a**b)\n",
        "\n",
        "\n"
      ],
      "metadata": {
        "colab": {
          "base_uri": "https://localhost:8080/"
        },
        "id": "rE3oSzyiu38w",
        "outputId": "e18ca78c-638a-4883-9dc3-1d26c14dd26a"
      },
      "execution_count": null,
      "outputs": [
        {
          "output_type": "stream",
          "name": "stdout",
          "text": [
            "Enter the first number 5\n",
            "Enter the second number 2\n",
            "Adition of the number is  7\n",
            "Subtractio- of the number is  3\n",
            "Multiplication of the number is  10\n",
            "Division of the number is  2.5\n",
            "Remainder of the number is  1\n",
            "Power of the number is  25\n"
          ]
        }
      ]
    },
    {
      "cell_type": "code",
      "source": [
        "#8. Write a program to demonstrate the use of logical operators\n",
        "\n",
        "a = 10\n",
        "b = 5\n",
        "\n",
        "# Logical AND\n",
        "print(\"AND operator:\")\n",
        "print(a > 5 and b > 2)   # True and True → True\n",
        "print(a > 5 and b > 10)  # True and False → False\n",
        "\n",
        "# Logical OR\n",
        "print(\"\\nOR operator:\")\n",
        "print(a > 5 or b > 10)   # True or False → True\n",
        "print(a < 5 or b > 10)   # False or False → False\n",
        "\n",
        "# Logical NOT\n",
        "print(\"\\nNOT operator:\")\n",
        "print(not(a > 5))        # not True → False\n",
        "print(not(b > 10))       # not False → True\n"
      ],
      "metadata": {
        "colab": {
          "base_uri": "https://localhost:8080/"
        },
        "id": "tm2sxpVrwpmH",
        "outputId": "4e4cf1fd-06aa-4b9c-cf9e-828040efbab7"
      },
      "execution_count": null,
      "outputs": [
        {
          "output_type": "stream",
          "name": "stdout",
          "text": [
            "AND operator:\n",
            "True\n",
            "False\n",
            "\n",
            "OR operator:\n",
            "True\n",
            "False\n",
            "\n",
            "NOT operator:\n",
            "False\n",
            "True\n"
          ]
        }
      ]
    },
    {
      "cell_type": "code",
      "source": [
        "#9. Write a Python program to convert user input from string to integer, float, and boolean types.\n",
        "\n",
        "value = input(\"Enter a number\")\n",
        "\n",
        "\n",
        "int_value = int(value)            # Convert to integer\n",
        "print(\"As Integer:\", int_value)\n",
        "\n",
        "\n",
        "float_value = float(value)      # convert to float\n",
        "print(\"As Float:\", float_value)\n",
        "\n",
        "\n",
        "bool_value = bool(value)    # Convert to boolean\n",
        "print(\"As Boolean:\", bool_value)\n"
      ],
      "metadata": {
        "colab": {
          "base_uri": "https://localhost:8080/"
        },
        "id": "w_xeBnGYxF9u",
        "outputId": "c4146c43-590e-4660-c136-6405250b1d04"
      },
      "execution_count": null,
      "outputs": [
        {
          "output_type": "stream",
          "name": "stdout",
          "text": [
            "Enter a number5\n",
            "As Integer: 5\n",
            "As Float: 5.0\n",
            "As Boolean: True\n"
          ]
        }
      ]
    },
    {
      "cell_type": "code",
      "source": [
        "#10. Write code to demonstrate type casting with list elements\n",
        "str_list = [\"1\", \"2\", \"3\"]\n",
        "int_list = [int(x) for x in str_list]     # Convert each element to integer\n",
        "\n",
        "print(\"Original (string) list:\", str_list)\n",
        "print(\"Converted (integer) list:\", int_list)\n"
      ],
      "metadata": {
        "colab": {
          "base_uri": "https://localhost:8080/"
        },
        "id": "_QsT78e1xxe7",
        "outputId": "1f89f5d4-7a2f-4359-fa36-afc333d9d4be"
      },
      "execution_count": null,
      "outputs": [
        {
          "output_type": "stream",
          "name": "stdout",
          "text": [
            "Original (string) list: ['1', '2', '3']\n",
            "Converted (integer) list: [1, 2, 3]\n"
          ]
        }
      ]
    },
    {
      "cell_type": "code",
      "source": [
        "#11. Write a program that checks if a number is positive, negative, or zero.\n",
        "a = int(input(\"Enter the number \"))\n",
        "if (a>0):\n",
        "  print(\"The number is positive\")\n",
        "elif(a<0):\n",
        "  print(\"The number is negative\")\n",
        "else:\n",
        "  print(\"Zero\")"
      ],
      "metadata": {
        "colab": {
          "base_uri": "https://localhost:8080/"
        },
        "id": "Xhit5wLkyIIv",
        "outputId": "1d04a966-87f7-4484-ccae-6db4235a0dd1"
      },
      "execution_count": null,
      "outputs": [
        {
          "output_type": "stream",
          "name": "stdout",
          "text": [
            "Enter the number 5\n",
            "The number is positive\n"
          ]
        }
      ]
    },
    {
      "cell_type": "code",
      "source": [
        "#12.Write a for loop to print numbers from 1 to 10.\n",
        "for i in range(1,11):\n",
        "  print(i)"
      ],
      "metadata": {
        "colab": {
          "base_uri": "https://localhost:8080/"
        },
        "id": "hrn_T0E0ytBA",
        "outputId": "78d3cfb2-7636-4d09-d9e1-b99f6a46a2bf"
      },
      "execution_count": null,
      "outputs": [
        {
          "output_type": "stream",
          "name": "stdout",
          "text": [
            "1\n",
            "2\n",
            "3\n",
            "4\n",
            "5\n",
            "6\n",
            "7\n",
            "8\n",
            "9\n",
            "10\n"
          ]
        }
      ]
    },
    {
      "cell_type": "code",
      "source": [
        " #13.Write a Python program to find the sum of all even numbers between 1 and 50.\n",
        "total=0\n",
        "for i in range(1,51):\n",
        "  if i % 2 ==0:\n",
        "    total += i\n",
        "print(\"Sum of even numbers from 1 to 50 is:\", total)\n"
      ],
      "metadata": {
        "colab": {
          "base_uri": "https://localhost:8080/"
        },
        "id": "nB8zvI-9zMRE",
        "outputId": "7c7e1716-7f93-491f-8c39-e8059890f6bc"
      },
      "execution_count": null,
      "outputs": [
        {
          "output_type": "stream",
          "name": "stdout",
          "text": [
            "Sum of even numbers from 1 to 50 is: 650\n"
          ]
        }
      ]
    },
    {
      "cell_type": "code",
      "source": [
        "#14.Write a program to reverse a string using a while loop\n",
        "\n",
        "text = input(\"Enter a string: \")\n",
        "reversed_text = \"\"\n",
        "index = len(text) - 1\n",
        "while index >= 0:\n",
        "    reversed_text += text[index]\n",
        "    index -= 1\n",
        "print(\"Reversed string:\", reversed_text)\n"
      ],
      "metadata": {
        "colab": {
          "base_uri": "https://localhost:8080/"
        },
        "id": "6MpAwnvT0GHL",
        "outputId": "719cb663-7256-4796-aec8-5a4e6b4189c2"
      },
      "execution_count": null,
      "outputs": [
        {
          "output_type": "stream",
          "name": "stdout",
          "text": [
            "Enter a string: ih\n",
            "Reversed string: hi\n"
          ]
        }
      ]
    },
    {
      "cell_type": "code",
      "source": [
        "#15. Write a Python program to calculate the factorial of a number provided by the user using a while loop\n",
        "\n",
        "num = int(input(\"Enter a number: \"))\n",
        "factorial = 1\n",
        "if num < 0:\n",
        "    print(\"Factorial is not defined for negative numbers.\")\n",
        "elif num == 0:\n",
        "    print(\"Factorial of 0 is 1.\")\n",
        "else:\n",
        "    while num > 1:\n",
        "        factorial *= num\n",
        "        num -= 1\n",
        "    print(\"Factorial is:\", factorial)\n"
      ],
      "metadata": {
        "colab": {
          "base_uri": "https://localhost:8080/"
        },
        "id": "2NOlFV-F0fkT",
        "outputId": "a2538bf1-42a9-421d-f232-82bb52863770"
      },
      "execution_count": null,
      "outputs": [
        {
          "output_type": "stream",
          "name": "stdout",
          "text": [
            "Enter a number: 5\n",
            "Factorial is: 120\n"
          ]
        }
      ]
    },
    {
      "cell_type": "markdown",
      "source": [],
      "metadata": {
        "id": "P-5U-UP3Fgos"
      }
    },
    {
      "cell_type": "markdown",
      "source": [],
      "metadata": {
        "id": "4TK1xzqsFe4P"
      }
    }
  ]
}